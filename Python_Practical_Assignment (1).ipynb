{
  "nbformat": 4,
  "nbformat_minor": 0,
  "metadata": {
    "colab": {
      "provenance": []
    },
    "kernelspec": {
      "name": "python3",
      "display_name": "Python 3"
    },
    "language_info": {
      "name": "python"
    }
  },
  "cells": [
    {
      "cell_type": "markdown",
      "source": [
        "**Python Theoratical Answers**\n",
        "\n",
        "1. What is Python, and why is it popular ?\n",
        "  - Python is a popular programming language that's used for many tasks, including web development, data science, and automation.\n",
        "  Python is popular because of some reasons like Easy to learn,\n",
        "Python software is free to download,Supports automation also it is a top programming language for analytics projects moreover Python is a popular choice for IoT projects because of its simplicity and readability and Supports game development.\n",
        "\n",
        "\n",
        "2. What is an interpreter in Python ?\n",
        "  - In Python, an interpreter is a program that reads and executes Python code line by line, translating it into machine-readable instructions for the computer to understand.\n",
        "\n",
        "3. What are pre-defined keywords in Python ?\n",
        "  \n",
        "   -   predefined reserved words with special meanings so the interpreter can understand them.\n",
        "\n",
        " example :\n",
        "\n",
        " False,             class ,              from,              or,\n",
        "None,                continue,            global,              pass,\n",
        "True,                def ,                if  ,                raise,\n",
        "and,                 del,                 import,              return,\n",
        "as,                  elif,                in,                  try,\n",
        "assert,              else ,               is ,                 while,\n",
        "async,               except,              lambda,              with,\n",
        "await,               finally,             nonlocal ,           yield,\n",
        "break ,              for,                 not.\n"
      ],
      "metadata": {
        "id": "w0VGLnrf2Lki"
      }
    },
    {
      "cell_type": "markdown",
      "source": [
        "4. Can keywords be used as variable names ?\n",
        "    - No, keywords cannot be used as variable names in most programming languages because keywords are reserved words with predefined meanings that the compiler uses to understand the structure and syntax of the code.\n",
        "\n",
        "5. What is mutability in Python ?\n",
        "   - In Python, mutability refers to an object's ability to be changed or modified after it's created.\n",
        "\n",
        "6. Why are lists mutable, but tuples are immutable ?\n",
        "   -  Tuples and lists are the same in every way except two: tuples use parentheses instead of square brackets, and the items in tuples cannot be modified.\n",
        "\n",
        "7. What is the difference between “==” and “is” operators in Python ?\n",
        "   - The 'is' is known as the identity operator. The == operator helps us compare the equality of objects.  \n",
        "\n",
        "8. What are logical operators in Python ?\n",
        "    - In Python, logical operators, and, or, and not, are used to combine or negate boolean expressions, returning a boolean result (True or False) based on the truth values of the operands.\n",
        "\n",
        "9. What is type casting in Python ?\n",
        "   - In Python, type casting is the process of converting a variable's data type to another, like converting an integer to a float or a string to an integer.\n",
        "\n",
        "10.  What is the difference between implicit and explicit type casting ?\n",
        "    - In Python, implicit type casting happens automatically by the interpreter, while explicit type casting (or type conversion) is done by the programmer using built-in functions like int(), float(), or str().\n",
        "\n",
        "11. What is the purpose of conditional statements in Python ?\n",
        "    -  Conditional statements in Python, like if, elif, and else, allow your code to make decisions and execute different blocks of code based on whether a condition is true or false, enabling dynamic and responsive programs.\n",
        "\n",
        "12. How does the elif statement work ?\n",
        "   - The “elif” keyword in Python, stands for “else if”. It can be used in conditional statements to check for multiple conditions. For example, if the first condition is false, it moves on to the next “elif” statement to check if that condition is true.\n",
        "\n",
        "13. What is the difference between for and while loops ?\n",
        "    - For loop is used to iterate over a sequence of items. While loop is used to repeatedly execute a block of statements while a condition is true.\n",
        "\n",
        "14.  Describe a scenario where a while loop is more suitable than a for loop ?\n",
        "    -  You don't know how many lines the file contains, so you need a loop that keeps reading line by line until there are no more lines to read.\n",
        "               \n"
      ],
      "metadata": {
        "id": "JccMSg_372hg"
      }
    },
    {
      "cell_type": "markdown",
      "source": [
        "**Python Practical answers.**"
      ],
      "metadata": {
        "id": "I3js6wxJ2EPv"
      }
    },
    {
      "cell_type": "code",
      "execution_count": 11,
      "metadata": {
        "id": "X9XIwPCexvBk",
        "colab": {
          "base_uri": "https://localhost:8080/"
        },
        "outputId": "063c20a1-ab06-43b2-8f5e-ca05b1bb83e5"
      },
      "outputs": [
        {
          "output_type": "stream",
          "name": "stdout",
          "text": [
            "Hello,World!\n"
          ]
        }
      ],
      "source": [
        "#1 Write a Python program to print \"Hello, World!\n",
        "print(\"Hello,World!\")"
      ]
    },
    {
      "cell_type": "code",
      "source": [
        "#2 Write a Python program that displays your name and age\n",
        "input(\"Name:\")\n",
        "input(\"Age\")"
      ],
      "metadata": {
        "id": "GAXVe9atx8A2",
        "colab": {
          "base_uri": "https://localhost:8080/",
          "height": 70
        },
        "outputId": "f77db547-66f6-4a00-baa3-83fe511c8ed8"
      },
      "execution_count": 13,
      "outputs": [
        {
          "name": "stdout",
          "output_type": "stream",
          "text": [
            "Name:Preetam Koley\n",
            "Age25\n"
          ]
        },
        {
          "output_type": "execute_result",
          "data": {
            "text/plain": [
              "'25'"
            ],
            "application/vnd.google.colaboratory.intrinsic+json": {
              "type": "string"
            }
          },
          "metadata": {},
          "execution_count": 13
        }
      ]
    },
    {
      "cell_type": "code",
      "source": [
        "#3 Write code to print all the pre-defined keywords in Python using the keyword library\n",
        "help(\"keywords\")"
      ],
      "metadata": {
        "colab": {
          "base_uri": "https://localhost:8080/"
        },
        "id": "h_966z7YC_Yo",
        "outputId": "07538b00-85ab-4e31-aab3-0dc58faeff83"
      },
      "execution_count": 15,
      "outputs": [
        {
          "output_type": "stream",
          "name": "stdout",
          "text": [
            "\n",
            "Here is a list of the Python keywords.  Enter any keyword to get more help.\n",
            "\n",
            "False               class               from                or\n",
            "None                continue            global              pass\n",
            "True                def                 if                  raise\n",
            "and                 del                 import              return\n",
            "as                  elif                in                  try\n",
            "assert              else                is                  while\n",
            "async               except              lambda              with\n",
            "await               finally             nonlocal            yield\n",
            "break               for                 not                 \n",
            "\n"
          ]
        }
      ]
    },
    {
      "cell_type": "code",
      "source": [
        "#4 Write a program that checks if a given word is a Python keyword\n",
        "if 9 > 5:\n",
        "  print(\"Greater\")"
      ],
      "metadata": {
        "colab": {
          "base_uri": "https://localhost:8080/"
        },
        "id": "vzeZlOciDdWK",
        "outputId": "bea672c7-a90d-404d-9475-f9af7da1d615"
      },
      "execution_count": 18,
      "outputs": [
        {
          "output_type": "stream",
          "name": "stdout",
          "text": [
            "Greater\n"
          ]
        }
      ]
    },
    {
      "cell_type": "code",
      "source": [
        "#5 Create a list and tuple in Python, and demonstrate how attempting to change an element works differently\n",
        "list_cont=[11,23,4.9,1+2,\"Preetam\"]\n"
      ],
      "metadata": {
        "id": "JYHV8S7fDqaC"
      },
      "execution_count": 47,
      "outputs": []
    },
    {
      "cell_type": "code",
      "source": [
        "list_cont[4]=\"Koley\""
      ],
      "metadata": {
        "id": "dv03F_eiN8VT"
      },
      "execution_count": 50,
      "outputs": []
    },
    {
      "cell_type": "code",
      "source": [
        "list_cont"
      ],
      "metadata": {
        "colab": {
          "base_uri": "https://localhost:8080/"
        },
        "id": "FHG1fOKJO-eZ",
        "outputId": "9c3d5a6b-5170-4c56-c783-5b546708fde2"
      },
      "execution_count": 51,
      "outputs": [
        {
          "output_type": "execute_result",
          "data": {
            "text/plain": [
              "[11, 23, 8, 3, 'Koley']"
            ]
          },
          "metadata": {},
          "execution_count": 51
        }
      ]
    },
    {
      "cell_type": "code",
      "source": [
        "#6 Write a function to demonstrate the behavior of mutable and immutable arguments\n",
        "# Example of Mutable\n",
        "list_cont=[2,4.6,3+5j,\"london\"]"
      ],
      "metadata": {
        "id": "oBxF5Rx6Puqb"
      },
      "execution_count": 66,
      "outputs": []
    },
    {
      "cell_type": "code",
      "source": [
        "list_cont[3]=\"Australia\""
      ],
      "metadata": {
        "id": "xo6E4Q68SaRR"
      },
      "execution_count": 67,
      "outputs": []
    },
    {
      "cell_type": "code",
      "source": [
        "list_cont"
      ],
      "metadata": {
        "colab": {
          "base_uri": "https://localhost:8080/"
        },
        "id": "sLKVi_UdSixC",
        "outputId": "37a58eb3-2daf-4c63-9918-d648d9e8b285"
      },
      "execution_count": 68,
      "outputs": [
        {
          "output_type": "execute_result",
          "data": {
            "text/plain": [
              "[2, 4.6, (3+5j), 'Australia']"
            ]
          },
          "metadata": {},
          "execution_count": 68
        }
      ]
    },
    {
      "cell_type": "code",
      "source": [
        "# Example of Immutable\n",
        "P= \"Preetam\""
      ],
      "metadata": {
        "id": "EZ3PF4enSkRn"
      },
      "execution_count": 74,
      "outputs": []
    },
    {
      "cell_type": "code",
      "source": [
        "P[2]=k"
      ],
      "metadata": {
        "colab": {
          "base_uri": "https://localhost:8080/",
          "height": 141
        },
        "id": "ilIfpjAsSwCj",
        "outputId": "582e2c94-575f-422e-f164-a421eb215864"
      },
      "execution_count": 75,
      "outputs": [
        {
          "output_type": "error",
          "ename": "NameError",
          "evalue": "name 'k' is not defined",
          "traceback": [
            "\u001b[0;31m---------------------------------------------------------------------------\u001b[0m",
            "\u001b[0;31mNameError\u001b[0m                                 Traceback (most recent call last)",
            "\u001b[0;32m<ipython-input-75-b4b4b0b8bf7e>\u001b[0m in \u001b[0;36m<cell line: 0>\u001b[0;34m()\u001b[0m\n\u001b[0;32m----> 1\u001b[0;31m \u001b[0mP\u001b[0m\u001b[0;34m[\u001b[0m\u001b[0;36m2\u001b[0m\u001b[0;34m]\u001b[0m\u001b[0;34m=\u001b[0m\u001b[0mk\u001b[0m\u001b[0;34m\u001b[0m\u001b[0;34m\u001b[0m\u001b[0m\n\u001b[0m",
            "\u001b[0;31mNameError\u001b[0m: name 'k' is not defined"
          ]
        }
      ]
    },
    {
      "cell_type": "code",
      "source": [
        "# Write a program to demonstrate the use of logical operators\n",
        "\n",
        "\n",
        "# Example: Logical Operators (AND, OR, NOT) with generic variables\n",
        "a, b, c = True, False, True\n",
        "\n",
        "# AND: Both conditions must be True\n",
        "if a and c:\n",
        "    print(\"Both a and c are True (AND condition).\")\n",
        "\n",
        "# OR: At least one condition must be True\n",
        "if b or c:\n",
        "    print(\"Either b or c is True (OR condition).\")\n",
        "\n",
        "# NOT: Reverses the condition\n",
        "if not b:\n",
        "    print(\"b is False (NOT condition).\")"
      ],
      "metadata": {
        "colab": {
          "base_uri": "https://localhost:8080/"
        },
        "id": "DMp4_kZ8S1vA",
        "outputId": "1ce50e0a-0ffa-4589-bc67-141ac2b4b965"
      },
      "execution_count": 76,
      "outputs": [
        {
          "output_type": "stream",
          "name": "stdout",
          "text": [
            "Both a and c are True (AND condition).\n",
            "Either b or c is True (OR condition).\n",
            "b is False (NOT condition).\n"
          ]
        }
      ]
    },
    {
      "cell_type": "code",
      "source": [
        "#7 Write code to demonstrate type casting with list elements"
      ],
      "metadata": {
        "id": "q3IM101AUts0"
      },
      "execution_count": 77,
      "outputs": []
    },
    {
      "cell_type": "code",
      "source": [
        "from types import NoneType\n",
        "a=1\n",
        "b=2.5\n",
        "c=\"2.5\"\n",
        "d=bool\n",
        "e=NoneType"
      ],
      "metadata": {
        "id": "mxABtIqYV5DX"
      },
      "execution_count": 90,
      "outputs": []
    },
    {
      "cell_type": "code",
      "source": [
        "int(b)"
      ],
      "metadata": {
        "colab": {
          "base_uri": "https://localhost:8080/"
        },
        "id": "Q40DTC8_XxsH",
        "outputId": "1ea0fbb9-279a-4482-d308-e51324df43a0"
      },
      "execution_count": 92,
      "outputs": [
        {
          "output_type": "execute_result",
          "data": {
            "text/plain": [
              "2"
            ]
          },
          "metadata": {},
          "execution_count": 92
        }
      ]
    },
    {
      "cell_type": "code",
      "source": [
        "float(a)"
      ],
      "metadata": {
        "colab": {
          "base_uri": "https://localhost:8080/"
        },
        "id": "GUBZN5rVXqoP",
        "outputId": "d53fc464-a5ed-4754-843b-ed389d12f806"
      },
      "execution_count": 91,
      "outputs": [
        {
          "output_type": "execute_result",
          "data": {
            "text/plain": [
              "1.0"
            ]
          },
          "metadata": {},
          "execution_count": 91
        }
      ]
    },
    {
      "cell_type": "code",
      "source": [
        "str(b)"
      ],
      "metadata": {
        "colab": {
          "base_uri": "https://localhost:8080/",
          "height": 35
        },
        "id": "QNGCMLxdY5yO",
        "outputId": "53785b58-62fd-45a1-b46c-05b3bf452768"
      },
      "execution_count": 93,
      "outputs": [
        {
          "output_type": "execute_result",
          "data": {
            "text/plain": [
              "'2.5'"
            ],
            "application/vnd.google.colaboratory.intrinsic+json": {
              "type": "string"
            }
          },
          "metadata": {},
          "execution_count": 93
        }
      ]
    },
    {
      "cell_type": "code",
      "source": [
        "float(c)"
      ],
      "metadata": {
        "colab": {
          "base_uri": "https://localhost:8080/"
        },
        "id": "RlHLnS3FZWUs",
        "outputId": "906225d9-005e-4e0c-ac5a-63c0c6811733"
      },
      "execution_count": 94,
      "outputs": [
        {
          "output_type": "execute_result",
          "data": {
            "text/plain": [
              "2.5"
            ]
          },
          "metadata": {},
          "execution_count": 94
        }
      ]
    },
    {
      "cell_type": "code",
      "source": [
        "str(a)"
      ],
      "metadata": {
        "colab": {
          "base_uri": "https://localhost:8080/",
          "height": 35
        },
        "id": "J0rnWc0YZbKO",
        "outputId": "619ee8a6-16a2-4a5b-c4d2-89533aff6fa7"
      },
      "execution_count": 95,
      "outputs": [
        {
          "output_type": "execute_result",
          "data": {
            "text/plain": [
              "'1'"
            ],
            "application/vnd.google.colaboratory.intrinsic+json": {
              "type": "string"
            }
          },
          "metadata": {},
          "execution_count": 95
        }
      ]
    },
    {
      "cell_type": "code",
      "source": [
        "# 8 Write a program that checks if a number is positive, negative, or zero"
      ],
      "metadata": {
        "id": "iJBWZG1KZ8R6"
      },
      "execution_count": 97,
      "outputs": []
    },
    {
      "cell_type": "code",
      "source": [
        "a = 2.5\n",
        "if a > 0:\n",
        "    pass"
      ],
      "metadata": {
        "id": "tD7yiy-kcBUr"
      },
      "execution_count": 108,
      "outputs": []
    },
    {
      "cell_type": "code",
      "source": [
        "# 9 Write a for loop to print numbers from 1 to 100"
      ],
      "metadata": {
        "id": "e3bCT9X0i7_p"
      },
      "execution_count": 111,
      "outputs": []
    },
    {
      "cell_type": "code",
      "source": [
        "for i in range(1,11):\n",
        "    print(i)"
      ],
      "metadata": {
        "colab": {
          "base_uri": "https://localhost:8080/"
        },
        "id": "RPrvQ9h2na8V",
        "outputId": "6ec7cc46-fec5-4f98-db0d-f3f5fd1fb001"
      },
      "execution_count": 112,
      "outputs": [
        {
          "output_type": "stream",
          "name": "stdout",
          "text": [
            "1\n",
            "2\n",
            "3\n",
            "4\n",
            "5\n",
            "6\n",
            "7\n",
            "8\n",
            "9\n",
            "10\n"
          ]
        }
      ]
    }
  ]
}