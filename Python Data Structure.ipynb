{
  "cells": [
    {
      "cell_type": "markdown",
      "metadata": {
        "id": "view-in-github",
        "colab_type": "text"
      },
      "source": [
        "<a href=\"https://colab.research.google.com/github/Preetam2000-git/Python-Assignment/blob/main/Python%20Data%20Structure.ipynb\" target=\"_parent\"><img src=\"https://colab.research.google.com/assets/colab-badge.svg\" alt=\"Open In Colab\"/></a>"
      ]
    },
    {
      "cell_type": "markdown",
      "source": [
        "#1.What are data structures, and why are they important ?\n",
        "  - Data structures are fundamental ways of organizing and storing data for efficient access and manipulation in computer programs. They are important because they enable faster and more efficient operations on data, making code more readable, scalable, and easier to maintain\n",
        "#2. Explain the difference between mutable and immutable data types with examples.\n",
        "   - In programming, mutable data types can be changed after they are created, while immutable data types cannot be modified once they are defined. Mutable examples include lists and dictionaries, while immutable examples include strings and tuples.\n"
      ],
      "metadata": {
        "id": "vn8Z8zkX-znh"
      }
    },
    {
      "cell_type": "code",
      "source": [
        "Team=[\"ram\",\"Shyam\",\"Arnab\"]\n",
        "Team.append(\"raju\")\n",
        "Team"
      ],
      "metadata": {
        "colab": {
          "base_uri": "https://localhost:8080/"
        },
        "id": "AMYnqMjtAhXb",
        "outputId": "dd794eaf-aba6-45f5-dceb-dccf53fde5bb"
      },
      "execution_count": 14,
      "outputs": [
        {
          "output_type": "execute_result",
          "data": {
            "text/plain": [
              "['ram', 'Shyam', 'Arnab', 'raju']"
            ]
          },
          "metadata": {},
          "execution_count": 14
        }
      ]
    },
    {
      "cell_type": "code",
      "source": [
        "name=\"Preetam\"\n",
        "name.replace(\"p\",\"r\")"
      ],
      "metadata": {
        "colab": {
          "base_uri": "https://localhost:8080/",
          "height": 35
        },
        "id": "6GRrb0LTB0Ld",
        "outputId": "d3f3dcbf-b3ce-4ff7-8d5d-e70886f9a6da"
      },
      "execution_count": 15,
      "outputs": [
        {
          "output_type": "execute_result",
          "data": {
            "text/plain": [
              "'Preetam'"
            ],
            "application/vnd.google.colaboratory.intrinsic+json": {
              "type": "string"
            }
          },
          "metadata": {},
          "execution_count": 15
        }
      ]
    },
    {
      "cell_type": "markdown",
      "source": [
        "#3. What are the main differences between lists and tuples in Python ?\n",
        "   - Lists and tuples are both fundamental sequence types in Python, but they differ significantly in their mutability and typical use cases."
      ],
      "metadata": {
        "id": "CYaosFvfCXHv"
      }
    },
    {
      "cell_type": "markdown",
      "source": [
        "#4.  Describe how dictionaries store data ?\n",
        "   - Dictionaries are used to store data values in key:value pairs. A dictionary is a collection which is ordered, changeable and do not allow duplicates."
      ],
      "metadata": {
        "id": "PX5j4HR1_lHV"
      }
    },
    {
      "cell_type": "code",
      "source": [
        "dict = {\"Name\":\"Preetam\", \"age\":\"25\"}\n",
        "dict"
      ],
      "metadata": {
        "colab": {
          "base_uri": "https://localhost:8080/"
        },
        "id": "z0qiHiw_DKi6",
        "outputId": "9bfc7fe8-f132-4636-9686-2f1f339932a3"
      },
      "execution_count": 18,
      "outputs": [
        {
          "output_type": "execute_result",
          "data": {
            "text/plain": [
              "{'Name': 'Preetam', 'age': '25'}"
            ]
          },
          "metadata": {},
          "execution_count": 18
        }
      ]
    },
    {
      "cell_type": "markdown",
      "source": [
        "#5. Why might you use a set instead of a list in Python ?\n",
        "  - Because Sets and lists in Python serve different purposes and have distinct characteristics, making one more suitable than the other depending on the situation. Sets are unordered collections of unique elements, while lists are ordered collections that can contain duplicates."
      ],
      "metadata": {
        "id": "gHDO64kQEJnR"
      }
    },
    {
      "cell_type": "markdown",
      "source": [
        "#6. What is a string in Python, and how is it different from a list ?\n",
        "   -In Python, a string is an immutable sequence of characters, while a list is a mutable sequence of items, which can be of any data type. Strings are primarily used for text-based data, whereas lists can hold a variety of items and are more versatile for organizing and manipulating collections of data."
      ],
      "metadata": {
        "id": "Vxd5VMxZEgAK"
      }
    },
    {
      "cell_type": "markdown",
      "source": [
        "#7. How do tuples ensure data integrity in Python ?\n",
        "  -Tuples in Python ensure data integrity through their immutability. Once a tuple is created, its elements cannot be changed, added, or removed. This characteristic guarantees that the data stored within a tuple remains constant throughout its lifecycle, preventing accidental or unauthorized modifications. Immutability makes tuples suitable for situations where data consistency is critical, such as storing configuration settings, database connection details, or representing fixed collections of values. Attempts to modify a tuple will result in a Type Error, reinforcing its read-only nature and safeguarding against data corruption."
      ],
      "metadata": {
        "id": "Smev5IrHFtxY"
      }
    },
    {
      "cell_type": "markdown",
      "source": [
        "#8. What is a hash table, and how does it relate to dictionaries in Python ?\n",
        "  - A hash table is a data structure that stores key-value pairs, similar to Python's dictionaries. It uses a hash function to map keys to an index in an array, allowing for efficient retrieval and storage of data. In Python, dictionaries are implemented using hash tables.\n"
      ],
      "metadata": {
        "id": "8CXPWRXQF6pX"
      }
    },
    {
      "cell_type": "code",
      "source": [
        "my_dict = {\"apple\": 1, \"banana\": 2, \"cherry\": 3}\n",
        "my_dict[\"orange\"] = 4\n",
        "my_dict"
      ],
      "metadata": {
        "colab": {
          "base_uri": "https://localhost:8080/"
        },
        "id": "RT1mXBxEGf5C",
        "outputId": "3e83b001-0ffa-4956-8dbf-45a0455ae4fa"
      },
      "execution_count": 20,
      "outputs": [
        {
          "output_type": "execute_result",
          "data": {
            "text/plain": [
              "{'apple': 1, 'banana': 2, 'cherry': 3, 'orange': 4}"
            ]
          },
          "metadata": {},
          "execution_count": 20
        }
      ]
    },
    {
      "cell_type": "code",
      "source": [
        "print(my_dict[\"banana\"])"
      ],
      "metadata": {
        "colab": {
          "base_uri": "https://localhost:8080/"
        },
        "id": "VV7FEDEMEJOE",
        "outputId": "b01ae851-c3fa-4041-9eec-a525e109fd23"
      },
      "execution_count": 21,
      "outputs": [
        {
          "output_type": "stream",
          "name": "stdout",
          "text": [
            "2\n"
          ]
        }
      ]
    },
    {
      "cell_type": "code",
      "source": [],
      "metadata": {
        "id": "vyMWqoR0DoE8"
      },
      "execution_count": null,
      "outputs": []
    },
    {
      "cell_type": "markdown",
      "source": [
        "#9. Can lists contain different data types in Python ?\n",
        "   - Yes, lists in Python can contain elements of different data types. This is a key feature of Python lists, allowing them to store heterogeneous data. A single list can hold integers, strings, floats, booleans, and even other lists or data structures.\n",
        "  "
      ],
      "metadata": {
        "id": "qa3WaBREG8EX"
      }
    },
    {
      "cell_type": "code",
      "source": [
        "my_list = [1, \"hello\", 3.14, True, [1, 2, 3]]\n",
        "print(my_list)"
      ],
      "metadata": {
        "colab": {
          "base_uri": "https://localhost:8080/"
        },
        "id": "ZURQjB3wHO90",
        "outputId": "668eafce-d9bd-4e78-a488-bf7df5273f51"
      },
      "execution_count": 22,
      "outputs": [
        {
          "output_type": "stream",
          "name": "stdout",
          "text": [
            "[1, 'hello', 3.14, True, [1, 2, 3]]\n"
          ]
        }
      ]
    },
    {
      "cell_type": "markdown",
      "source": [
        "#10. Explain why strings are immutable in Python ?\n",
        "  - Python strings are \"immutable\" which means they cannot be changed after they are created."
      ],
      "metadata": {
        "id": "UZin9ufJHcHV"
      }
    },
    {
      "cell_type": "code",
      "source": [
        "Name=\"Preetam\"\n",
        "Name[2]=\"y\"\n",
        "Name"
      ],
      "metadata": {
        "colab": {
          "base_uri": "https://localhost:8080/",
          "height": 176
        },
        "id": "hID0uw7FHT1i",
        "outputId": "2f58e867-79f1-4763-cf0d-f5e6c292dc2d"
      },
      "execution_count": 25,
      "outputs": [
        {
          "output_type": "error",
          "ename": "TypeError",
          "evalue": "'str' object does not support item assignment",
          "traceback": [
            "\u001b[0;31m---------------------------------------------------------------------------\u001b[0m",
            "\u001b[0;31mTypeError\u001b[0m                                 Traceback (most recent call last)",
            "\u001b[0;32m<ipython-input-25-2e0cbbd7b4f2>\u001b[0m in \u001b[0;36m<cell line: 0>\u001b[0;34m()\u001b[0m\n\u001b[1;32m      1\u001b[0m \u001b[0mName\u001b[0m\u001b[0;34m=\u001b[0m\u001b[0;34m\"Preetam\"\u001b[0m\u001b[0;34m\u001b[0m\u001b[0;34m\u001b[0m\u001b[0m\n\u001b[0;32m----> 2\u001b[0;31m \u001b[0mName\u001b[0m\u001b[0;34m[\u001b[0m\u001b[0;36m2\u001b[0m\u001b[0;34m]\u001b[0m\u001b[0;34m=\u001b[0m\u001b[0;34m\"y\"\u001b[0m\u001b[0;34m\u001b[0m\u001b[0;34m\u001b[0m\u001b[0m\n\u001b[0m\u001b[1;32m      3\u001b[0m \u001b[0mName\u001b[0m\u001b[0;34m\u001b[0m\u001b[0;34m\u001b[0m\u001b[0m\n",
            "\u001b[0;31mTypeError\u001b[0m: 'str' object does not support item assignment"
          ]
        }
      ]
    },
    {
      "cell_type": "markdown",
      "source": [
        "#11. What advantages do dictionaries offer over lists for certain tasks ?\n",
        "  - it is more efficient to use dictionaries for the searching of elements as it can be carried out in a much faster manner. Lists are used when it is important to maintain the order of the elements and dealing with data that may get changed in the future.\n",
        "  "
      ],
      "metadata": {
        "id": "Y0WN9XI3IcHQ"
      }
    },
    {
      "cell_type": "markdown",
      "source": [
        "#12. Describe a scenario where using a tuple would be preferable over a list.\n",
        "   - if you want the data in your collection to be read-only, never to change, and always remain the same and constant."
      ],
      "metadata": {
        "id": "uT-phAWfIrll"
      }
    },
    {
      "cell_type": "markdown",
      "source": [
        "#13. How do sets handle duplicate values in Python ?\n",
        "   -Sets in Python are designed to store only unique elements. When attempting to add a duplicate value to a set, the set automatically discards the duplicate, ensuring that it contains only distinct elements. This behavior is a core characteristic of sets, making them useful for tasks like removing duplicates from a list or checking for membership without concern for repetition.\n",
        "\n"
      ],
      "metadata": {
        "id": "z3FBazBFJD9h"
      }
    },
    {
      "cell_type": "code",
      "source": [
        "My_bag= {\"Bottle\",\"book\",\"Laptop\",\"book\",\"Bottle\"}\n",
        "My_bag"
      ],
      "metadata": {
        "colab": {
          "base_uri": "https://localhost:8080/"
        },
        "id": "n5zsG2AIH5f4",
        "outputId": "cdcc4a9e-6a51-4cb7-8a8b-450ca300cce6"
      },
      "execution_count": 26,
      "outputs": [
        {
          "output_type": "execute_result",
          "data": {
            "text/plain": [
              "{'Bottle', 'Laptop', 'book'}"
            ]
          },
          "metadata": {},
          "execution_count": 26
        }
      ]
    },
    {
      "cell_type": "markdown",
      "source": [
        "#14. How does the “in” keyword work differently for lists and dictionaries ?"
      ],
      "metadata": {
        "id": "IwR0tkhLJoSa"
      }
    },
    {
      "cell_type": "code",
      "source": [
        "dict={\"hello\":\"hi\",\"thank you\":\"your welcome\"}\n",
        "\"hello\" in dict\n",
        "\"hi\" in dict"
      ],
      "metadata": {
        "colab": {
          "base_uri": "https://localhost:8080/"
        },
        "id": "xAb1GUosJkwz",
        "outputId": "0f298320-45f0-408f-a230-edc5a50cd67c"
      },
      "execution_count": 28,
      "outputs": [
        {
          "output_type": "execute_result",
          "data": {
            "text/plain": [
              "False"
            ]
          },
          "metadata": {},
          "execution_count": 28
        }
      ]
    },
    {
      "cell_type": "code",
      "source": [
        "my_list = [1, 2, 3, 4, 5]\n",
        "\n",
        "print(3 in my_list)\n",
        "print(6 in my_list)"
      ],
      "metadata": {
        "colab": {
          "base_uri": "https://localhost:8080/"
        },
        "id": "n9_nzI9-KFMG",
        "outputId": "0655bbb3-ffb2-4d88-e79a-5d1b46ce0108"
      },
      "execution_count": 29,
      "outputs": [
        {
          "output_type": "stream",
          "name": "stdout",
          "text": [
            "True\n",
            "False\n"
          ]
        }
      ]
    },
    {
      "cell_type": "markdown",
      "source": [
        "#15. Can you modify the elements of a tuple? Explain why or why not ?\n",
        "  - No, you cannot directly modify the elements of a tuple after it has been created. Tuples are immutable in Python, meaning their values cannot be changed once they are assigned. Attempting to modify a tuple will result in a Type Error."
      ],
      "metadata": {
        "id": "pC2vffkaKkLm"
      }
    },
    {
      "cell_type": "markdown",
      "source": [
        "#16. What is a nested dictionary, and give an example of its use case ?\n",
        "  - A nested dictionary in Python is a dictionary where the values are themselves dictionaries. This creates a hierarchical data structure. A common use case is to store complex, related data in a structured manner, like organizing information about different objects or individuals with multiple attributes."
      ],
      "metadata": {
        "id": "djG17gr3NawP"
      }
    },
    {
      "cell_type": "code",
      "source": [
        "people = {1: {'name': 'John', 'age': '27', 'sex': 'Male'},\n",
        "          2: {'name': 'Marie', 'age': '22', 'sex': 'Female'}}\n",
        "\n",
        "print(people)"
      ],
      "metadata": {
        "colab": {
          "base_uri": "https://localhost:8080/"
        },
        "id": "pel7w1K1Klsu",
        "outputId": "89763503-310e-437d-82c6-7859ea5ef6c3"
      },
      "execution_count": 32,
      "outputs": [
        {
          "output_type": "stream",
          "name": "stdout",
          "text": [
            "{1: {'name': 'John', 'age': '27', 'sex': 'Male'}, 2: {'name': 'Marie', 'age': '22', 'sex': 'Female'}}\n"
          ]
        }
      ]
    },
    {
      "cell_type": "markdown",
      "source": [
        "#17.  Describe the time complexity of accessing elements in a dictionary.\n",
        "  - The time complexity of retrieving a value by its key in a dictionary is O(1). This is because dictionaries use a hash table internally which allows constant time lookup."
      ],
      "metadata": {
        "id": "CDgBTf4mODwB"
      }
    },
    {
      "cell_type": "markdown",
      "source": [
        "#18. In what situations are lists preferred over dictionaries ?\n",
        "   -For quick data look-ups, configurations, or caches, favor dictionaries. For ordered collections and sequence operations, such as maintaining a stack or queue, lists are more suitable."
      ],
      "metadata": {
        "id": "rTy_-rMNOS8c"
      }
    },
    {
      "cell_type": "markdown",
      "source": [
        "#19.  Why are dictionaries considered unordered, and how does that affect data retrieval ?\n",
        "  - Dictionary is a data structure which is a important value structure, optimized for fast storage and recovery based on key. In python, dictionaries are un-ordered because Python dictionaries are not intended to be in order."
      ],
      "metadata": {
        "id": "M-Ep2DKZOtU6"
      }
    },
    {
      "cell_type": "markdown",
      "source": [
        "#20. Explain the difference between a list and a dictionary in terms of data retrieval ?\n",
        "  - In terms of data retrieval, lists access elements by numerical index, while dictionaries access elements by unique keys. This difference significantly impacts retrieval speed and efficiency."
      ],
      "metadata": {
        "id": "0l6rExqiPCV0"
      }
    },
    {
      "cell_type": "markdown",
      "source": [
        "\n",
        "\n",
        "#Practical Questions"
      ],
      "metadata": {
        "id": "0SinbmmcPS4x"
      }
    },
    {
      "cell_type": "code",
      "source": [
        "#1.Write a code to create a string with your name and print it.\n",
        "my_name = \"Preetam koley\"\n",
        "my_name"
      ],
      "metadata": {
        "colab": {
          "base_uri": "https://localhost:8080/",
          "height": 35
        },
        "id": "skZ81mbJOsfr",
        "outputId": "07309deb-0d0d-4472-beb1-9a6344006b6b"
      },
      "execution_count": 33,
      "outputs": [
        {
          "output_type": "execute_result",
          "data": {
            "text/plain": [
              "'Preetam koley'"
            ],
            "application/vnd.google.colaboratory.intrinsic+json": {
              "type": "string"
            }
          },
          "metadata": {},
          "execution_count": 33
        }
      ]
    },
    {
      "cell_type": "code",
      "source": [
        "#2. Write a code to find the length of the string \"Hello World\"\n",
        "name=\"Preetam\"\n",
        "len(name)"
      ],
      "metadata": {
        "colab": {
          "base_uri": "https://localhost:8080/"
        },
        "id": "UJE59QtcQKn0",
        "outputId": "cae6c9a5-44fb-40b9-ac96-31d36beeee05"
      },
      "execution_count": 34,
      "outputs": [
        {
          "output_type": "execute_result",
          "data": {
            "text/plain": [
              "7"
            ]
          },
          "metadata": {},
          "execution_count": 34
        }
      ]
    },
    {
      "cell_type": "code",
      "source": [
        "#3. Write a code to slice the first 3 characters from the string \"Python Programming\"\n",
        "text = \"Python Programming\"\n",
        "sliced_text = text[:3]\n",
        "print(sliced_text)\n"
      ],
      "metadata": {
        "colab": {
          "base_uri": "https://localhost:8080/"
        },
        "id": "WGP6ncmRQaTC",
        "outputId": "36615a53-93e3-407d-8bf1-ec017cfe74e9"
      },
      "execution_count": 37,
      "outputs": [
        {
          "output_type": "stream",
          "name": "stdout",
          "text": [
            "Pyt\n"
          ]
        }
      ]
    },
    {
      "cell_type": "code",
      "source": [
        "#4. Write a code to convert the string \"hello\" to uppercase\n",
        "text = \"hello\"\n",
        "uppercase_text = text.upper()\n",
        "print(uppercase_text)"
      ],
      "metadata": {
        "colab": {
          "base_uri": "https://localhost:8080/"
        },
        "id": "YkjrRv1KRJ8K",
        "outputId": "463387c6-d3ce-4b70-d004-cd6afc5a7e39"
      },
      "execution_count": 38,
      "outputs": [
        {
          "output_type": "stream",
          "name": "stdout",
          "text": [
            "HELLO\n"
          ]
        }
      ]
    },
    {
      "cell_type": "code",
      "source": [
        "#5. Write a code to replace the word \"apple\" with \"orange\" in the string \"I like apple\"\n",
        "text = \"I like apple\"\n",
        "new_text = text.replace(\"apple\", \"orange\")\n",
        "print(new_text)"
      ],
      "metadata": {
        "colab": {
          "base_uri": "https://localhost:8080/"
        },
        "id": "gJTGaTV1RJ4h",
        "outputId": "c24303de-2fec-4377-c486-0dfc229ce759"
      },
      "execution_count": 41,
      "outputs": [
        {
          "output_type": "stream",
          "name": "stdout",
          "text": [
            "I like orange\n"
          ]
        }
      ]
    },
    {
      "cell_type": "code",
      "source": [
        "#6. Write a code to create a list with numbers 1 to 5 and print it\n",
        "numbers=[1,2,3,4,5]"
      ],
      "metadata": {
        "id": "QrJAnfxERJ14"
      },
      "execution_count": 42,
      "outputs": []
    },
    {
      "cell_type": "code",
      "source": [
        "#7.  Write a code to append the number 10 to the list [1, 2, 3, 4]\n",
        "my_list=[1,2,3,4,5]\n",
        "my_list.append(10)\n",
        "my_list"
      ],
      "metadata": {
        "colab": {
          "base_uri": "https://localhost:8080/"
        },
        "id": "3Y4gmcf4RJzQ",
        "outputId": "da7d38ae-4f59-4543-f4a6-4473e82c03b4"
      },
      "execution_count": 43,
      "outputs": [
        {
          "output_type": "execute_result",
          "data": {
            "text/plain": [
              "[1, 2, 3, 4, 5, 10]"
            ]
          },
          "metadata": {},
          "execution_count": 43
        }
      ]
    },
    {
      "cell_type": "code",
      "source": [
        "#8. Write a code to remove the number 3 from the list [1, 2, 3, 4, 5]\n",
        "my_list=[1,2,3,4,5]\n",
        "my_list.remove(3)\n",
        "my_list"
      ],
      "metadata": {
        "colab": {
          "base_uri": "https://localhost:8080/"
        },
        "id": "HH5UDzmCRJws",
        "outputId": "ba976f26-f739-462e-a8f6-afad4e8e51fc"
      },
      "execution_count": 44,
      "outputs": [
        {
          "output_type": "execute_result",
          "data": {
            "text/plain": [
              "[1, 2, 4, 5]"
            ]
          },
          "metadata": {},
          "execution_count": 44
        }
      ]
    },
    {
      "cell_type": "code",
      "source": [
        "#9. Write a code to access the second element in the list ['a', 'b', 'c', 'd']\n",
        "my_list=[\"a\",\"b\",\"c\",\"d\"]\n",
        "my_list[1]"
      ],
      "metadata": {
        "colab": {
          "base_uri": "https://localhost:8080/",
          "height": 35
        },
        "id": "sn3aA4ARRJuI",
        "outputId": "1b9e2d34-32d6-4727-8e4c-c8bddc5a1bba"
      },
      "execution_count": 46,
      "outputs": [
        {
          "output_type": "execute_result",
          "data": {
            "text/plain": [
              "'b'"
            ],
            "application/vnd.google.colaboratory.intrinsic+json": {
              "type": "string"
            }
          },
          "metadata": {},
          "execution_count": 46
        }
      ]
    },
    {
      "cell_type": "code",
      "source": [
        "#10. Write a code to reverse the list [10, 20, 30, 40, 50]\n",
        "my_list = [10, 20, 30, 40, 50]\n",
        "reversed_list = my_list[::-1]\n",
        "print(reversed_list)"
      ],
      "metadata": {
        "colab": {
          "base_uri": "https://localhost:8080/"
        },
        "id": "1BzKHzLeRJnv",
        "outputId": "6fe63e49-fe9e-4e49-82a7-6d75445a1ca7"
      },
      "execution_count": 51,
      "outputs": [
        {
          "output_type": "stream",
          "name": "stdout",
          "text": [
            "[50, 40, 30, 20, 10]\n"
          ]
        }
      ]
    },
    {
      "cell_type": "code",
      "source": [
        "#11. Write a code to create a tuple with the elements 100, 200, 300 and print it.\n",
        "my_tuple = (100, 200, 300)\n",
        "print(my_tuple)"
      ],
      "metadata": {
        "colab": {
          "base_uri": "https://localhost:8080/"
        },
        "id": "XivJbOB0RJa-",
        "outputId": "2ff0acd3-a94a-4bd2-a011-a5112705a3d6"
      },
      "execution_count": 52,
      "outputs": [
        {
          "output_type": "stream",
          "name": "stdout",
          "text": [
            "(100, 200, 300)\n"
          ]
        }
      ]
    },
    {
      "cell_type": "code",
      "source": [
        "#12. Write a code to access the second-to-last element of the tuple ('red', 'green', 'blue', 'yellow').\n",
        "my_tuple = ('red', 'green', 'blue', 'yellow')\n",
        "second_to_last = my_tuple[-2]\n",
        "print(second_to_last)"
      ],
      "metadata": {
        "colab": {
          "base_uri": "https://localhost:8080/"
        },
        "id": "g4tZVt4OUPrp",
        "outputId": "832b5436-5b5f-4dc8-a742-c55d5ed70f17"
      },
      "execution_count": 53,
      "outputs": [
        {
          "output_type": "stream",
          "name": "stdout",
          "text": [
            "blue\n"
          ]
        }
      ]
    },
    {
      "cell_type": "code",
      "source": [
        "#13.  Write a code to find the minimum number in the tuple (10, 20, 5, 15).\n",
        "my_tuple = (10, 20, 5, 15)\n",
        "min_value = min(my_tuple)\n",
        "print(min_value)"
      ],
      "metadata": {
        "colab": {
          "base_uri": "https://localhost:8080/"
        },
        "id": "oYjfR_PqUPob",
        "outputId": "c1c0aa26-a36c-4c8d-eda2-c6baf41b7d48"
      },
      "execution_count": 57,
      "outputs": [
        {
          "output_type": "stream",
          "name": "stdout",
          "text": [
            "5\n"
          ]
        }
      ]
    },
    {
      "cell_type": "code",
      "source": [
        "#14.  Write a code to find the index of the element \"cat\" in the tuple ('dog', 'cat', 'rabbit').\n",
        "my_tuple = ('dog', 'cat', 'rabbit')\n",
        "index_of_cat = my_tuple.index('cat')\n",
        "print(index_of_cat)"
      ],
      "metadata": {
        "colab": {
          "base_uri": "https://localhost:8080/"
        },
        "id": "yFsuWo0CUPmC",
        "outputId": "2a920f0c-e938-4656-ff31-e1a82210e9e2"
      },
      "execution_count": 58,
      "outputs": [
        {
          "output_type": "stream",
          "name": "stdout",
          "text": [
            "1\n"
          ]
        }
      ]
    },
    {
      "cell_type": "code",
      "source": [
        "#15.  Write a code to create a tuple containing three different fruits and check if \"kiwi\" is in it.\n",
        "fruits = ('apple', 'banana', 'cherry')\n",
        "is_kiwi_in_tuple = 'kiwi' in fruits\n",
        "print(is_kiwi_in_tuple)"
      ],
      "metadata": {
        "colab": {
          "base_uri": "https://localhost:8080/"
        },
        "id": "iG6IxuXAUPjt",
        "outputId": "25fabbba-8854-4fd5-fca1-1c9598c6b4a9"
      },
      "execution_count": 60,
      "outputs": [
        {
          "output_type": "stream",
          "name": "stdout",
          "text": [
            "False\n"
          ]
        }
      ]
    },
    {
      "cell_type": "code",
      "source": [
        "#16. Write a code to create a set with the elements 'a', 'b', 'c' and print it\n",
        "my_set={\"a\",\"b\",\"c\"}\n",
        "print(my_set)"
      ],
      "metadata": {
        "colab": {
          "base_uri": "https://localhost:8080/"
        },
        "id": "vnax2mHwUPhP",
        "outputId": "f5c6656f-2050-40fb-feff-eb8b07b4b975"
      },
      "execution_count": 61,
      "outputs": [
        {
          "output_type": "stream",
          "name": "stdout",
          "text": [
            "{'c', 'b', 'a'}\n"
          ]
        }
      ]
    },
    {
      "cell_type": "code",
      "source": [
        "#17.  Write a code to clear all elements from the set {1, 2, 3, 4, 5}.\n",
        "my_set = {1, 2, 3, 4, 5}\n",
        "my_set.clear()\n",
        "print(my_set)"
      ],
      "metadata": {
        "colab": {
          "base_uri": "https://localhost:8080/"
        },
        "id": "CLeECPK3UPem",
        "outputId": "2a059a49-d92d-48f4-de2a-2f1912f3d93c"
      },
      "execution_count": 62,
      "outputs": [
        {
          "output_type": "stream",
          "name": "stdout",
          "text": [
            "set()\n"
          ]
        }
      ]
    },
    {
      "cell_type": "code",
      "source": [
        "#18.  Write a code to remove the element 4 from the set {1, 2, 3, 4}.\n",
        "\n",
        "my_set = {1, 2, 3, 4}\n",
        "my_set.remove(4)\n",
        "print(my_set)"
      ],
      "metadata": {
        "colab": {
          "base_uri": "https://localhost:8080/"
        },
        "id": "MKLAb4HxUPcA",
        "outputId": "5a945b7e-9912-4c01-81ba-7055172ab5b0"
      },
      "execution_count": 63,
      "outputs": [
        {
          "output_type": "stream",
          "name": "stdout",
          "text": [
            "{1, 2, 3}\n"
          ]
        }
      ]
    },
    {
      "cell_type": "code",
      "source": [
        "#19.  Write a code to find the union of two sets {1, 2, 3} and {3, 4, 5}.\n",
        "set1 = {1, 2, 3}\n",
        "set2 = {3, 4, 5}\n",
        "union_set = set1.union(set2)\n",
        "print(union_set)"
      ],
      "metadata": {
        "colab": {
          "base_uri": "https://localhost:8080/"
        },
        "id": "lIhaoXlOUPZZ",
        "outputId": "c3d0f73c-2065-4e8d-b5ea-74750c997f93"
      },
      "execution_count": 64,
      "outputs": [
        {
          "output_type": "stream",
          "name": "stdout",
          "text": [
            "{1, 2, 3, 4, 5}\n"
          ]
        }
      ]
    },
    {
      "cell_type": "code",
      "source": [
        "#20.  Write a code to find the intersection of two sets {1, 2, 3} and {2, 3, 4}.\n",
        "set1 = {1, 2, 3}\n",
        "set2 = {2, 3, 4}\n",
        "intersection_set = set1.intersection(set2)\n",
        "print(intersection_set)"
      ],
      "metadata": {
        "colab": {
          "base_uri": "https://localhost:8080/"
        },
        "id": "hICgMr3VUPWz",
        "outputId": "426deb24-7eab-483d-ffc2-7f5780f0299c"
      },
      "execution_count": 65,
      "outputs": [
        {
          "output_type": "stream",
          "name": "stdout",
          "text": [
            "{2, 3}\n"
          ]
        }
      ]
    },
    {
      "cell_type": "code",
      "source": [
        "#21.  Write a code to create a dictionary with the keys \"name\", \"age\", and \"city\", and print it.\n",
        "my_dict = {\"name\": \"John\",\"age\": 30,\"city\": \"New York\"}\n",
        "print(my_dict)"
      ],
      "metadata": {
        "colab": {
          "base_uri": "https://localhost:8080/"
        },
        "id": "19ow7FANUPUJ",
        "outputId": "16d794e4-7447-496c-9ca2-d0142c649211"
      },
      "execution_count": 70,
      "outputs": [
        {
          "output_type": "stream",
          "name": "stdout",
          "text": [
            "{'name': 'John', 'age': 30, 'city': 'New York'}\n"
          ]
        }
      ]
    },
    {
      "cell_type": "code",
      "source": [
        "#22. Write a code to add a new key-value pair \"country\": \"USA\" to the dictionary {'name': 'John', 'age': 25}.\n",
        "my_dict = {'name': 'John', 'age': 25}\n",
        "my_dict[\"country\"] = \"USA\"\n",
        "print(my_dict)"
      ],
      "metadata": {
        "colab": {
          "base_uri": "https://localhost:8080/"
        },
        "id": "i6OqM0McUPRx",
        "outputId": "fcd6f706-361b-4bb1-ba54-e667007b1774"
      },
      "execution_count": 71,
      "outputs": [
        {
          "output_type": "stream",
          "name": "stdout",
          "text": [
            "{'name': 'John', 'age': 25, 'country': 'USA'}\n"
          ]
        }
      ]
    },
    {
      "cell_type": "code",
      "source": [
        "#23. Write a code to access the value associated with the key \"name\" in the dictionary {'name': 'Alice', 'age': 30}.\n",
        "my_dict = {'name': 'Alice', 'age': 30}\n",
        "name_value = my_dict['name']\n",
        "print(name_value)"
      ],
      "metadata": {
        "colab": {
          "base_uri": "https://localhost:8080/"
        },
        "id": "_jm2T69GUPPO",
        "outputId": "b165c8e3-a892-4976-85c2-01820cc2400e"
      },
      "execution_count": 73,
      "outputs": [
        {
          "output_type": "stream",
          "name": "stdout",
          "text": [
            "Alice\n"
          ]
        }
      ]
    },
    {
      "cell_type": "code",
      "source": [
        "#24.  Write a code to remove the key \"age\" from the dictionary {'name': 'Bob', 'age': 22, 'city': 'New York'}.\n",
        "my_dict = {'name': 'Bob', 'age': 22, 'city': 'New York'}\n",
        "my_dict.pop('age')\n",
        "print(my_dict)\n"
      ],
      "metadata": {
        "colab": {
          "base_uri": "https://localhost:8080/"
        },
        "id": "hihoO9a8ZIE5",
        "outputId": "d940fab3-7750-4d24-d5e6-d4f69e4edb32"
      },
      "execution_count": 74,
      "outputs": [
        {
          "output_type": "stream",
          "name": "stdout",
          "text": [
            "{'name': 'Bob', 'city': 'New York'}\n"
          ]
        }
      ]
    },
    {
      "cell_type": "code",
      "source": [
        "#25.  Write a code to check if the key \"city\" exists in the dictionary {'name': 'Alice', 'city': 'Paris'}.\n",
        "my_dict = {'name': 'Alice', 'city': 'Paris'}\n",
        "if 'city' in my_dict:\n",
        "    print(\"The key 'city' exists in the dictionary.\")\n",
        "else:\n",
        "    print(\"The key 'city' does not exist in the dictionary.\")"
      ],
      "metadata": {
        "colab": {
          "base_uri": "https://localhost:8080/"
        },
        "id": "XMPdfB4RZIBt",
        "outputId": "e28336d7-ce01-4776-b996-5d020a9c3148"
      },
      "execution_count": 75,
      "outputs": [
        {
          "output_type": "stream",
          "name": "stdout",
          "text": [
            "The key 'city' exists in the dictionary.\n"
          ]
        }
      ]
    },
    {
      "cell_type": "code",
      "source": [
        "#26. Write a code to create a list, a tuple, and a dictionary, and print them all\n",
        "my_list = [1, 2, 3, 4, 5]\n",
        "my_tuple = ('apple', 'banana', 'cherry')\n",
        "my_dict = {'name': 'Alice', 'age': 25, 'city': 'Paris'}\n",
        "print(\"List:\", my_list)\n",
        "print(\"Tuple:\", my_tuple)\n",
        "print(\"Dictionary:\", my_dict)"
      ],
      "metadata": {
        "colab": {
          "base_uri": "https://localhost:8080/"
        },
        "id": "zBUoDErXZH_V",
        "outputId": "8b00e1db-c778-474a-f803-e4b87ce960cc"
      },
      "execution_count": 76,
      "outputs": [
        {
          "output_type": "stream",
          "name": "stdout",
          "text": [
            "List: [1, 2, 3, 4, 5]\n",
            "Tuple: ('apple', 'banana', 'cherry')\n",
            "Dictionary: {'name': 'Alice', 'age': 25, 'city': 'Paris'}\n"
          ]
        }
      ]
    },
    {
      "cell_type": "code",
      "source": [
        "#27. Write a code to create a list of 5 random numbers between 1 and 100, sort it in ascending order, and print the\n",
        "numbers = [11,23,43,54,67]\n",
        "numbers.sort()\n",
        "print(\"Sorted list:\", numbers)"
      ],
      "metadata": {
        "colab": {
          "base_uri": "https://localhost:8080/"
        },
        "id": "-22R8DdfZH8s",
        "outputId": "a1fa1cc2-a4d8-4c2e-c7ae-ac884623264b"
      },
      "execution_count": 82,
      "outputs": [
        {
          "output_type": "stream",
          "name": "stdout",
          "text": [
            "Sorted list: [11, 23, 43, 54, 67]\n"
          ]
        }
      ]
    },
    {
      "cell_type": "code",
      "source": [
        "#28.Write a code to create a list with strings and print the element at the third index.\n",
        "my_list = [\"apple\", \"banana\", \"cherry\", \"date\", \"elderberry\"]\n",
        "print(\"Element at the third index:\", my_list[3])"
      ],
      "metadata": {
        "colab": {
          "base_uri": "https://localhost:8080/"
        },
        "id": "n4EjIvhJZH6C",
        "outputId": "0df91068-dd90-4135-a425-6f3ac4f5e986"
      },
      "execution_count": 83,
      "outputs": [
        {
          "output_type": "stream",
          "name": "stdout",
          "text": [
            "Element at the third index: date\n"
          ]
        }
      ]
    },
    {
      "cell_type": "code",
      "source": [
        " #29. Write a code to combine two dictionaries into one and print the result.\n",
        " dict1 = {'name': 'Alice', 'age': 25}\n",
        "dict2 = {'city': 'Paris', 'country': 'France'}\n",
        "combined_dict = {**dict1, **dict2}\n",
        "print(\"Combined dictionary:\", combined_dict)"
      ],
      "metadata": {
        "colab": {
          "base_uri": "https://localhost:8080/"
        },
        "id": "rCgtawPoUPMg",
        "outputId": "8cda2126-94fd-440c-9805-af213869e55c"
      },
      "execution_count": 86,
      "outputs": [
        {
          "output_type": "stream",
          "name": "stdout",
          "text": [
            "Combined dictionary: {'name': 'Alice', 'age': 25, 'city': 'Paris', 'country': 'France'}\n"
          ]
        }
      ]
    },
    {
      "cell_type": "code",
      "source": [
        "#30. Write a code to convert a list of strings into a set.\n",
        "my_list = [\"apple\", \"banana\", \"cherry\", \"apple\", \"date\"]\n",
        "\n",
        "# Convert the list to a set\n",
        "my_set = set(my_list)\n",
        "\n",
        "# Print the set\n",
        "print(\"Set:\", my_set)\n"
      ],
      "metadata": {
        "colab": {
          "base_uri": "https://localhost:8080/"
        },
        "id": "Pe9JRWYGUPCV",
        "outputId": "15ed479a-8463-4d26-b5dc-2a2f78b3b6a3"
      },
      "execution_count": 88,
      "outputs": [
        {
          "output_type": "stream",
          "name": "stdout",
          "text": [
            "Set: {'date', 'banana', 'apple', 'cherry'}\n"
          ]
        }
      ]
    }
  ],
  "metadata": {
    "colab": {
      "name": "Welcome To Colab",
      "provenance": [],
      "include_colab_link": true
    },
    "kernelspec": {
      "display_name": "Python 3",
      "name": "python3"
    }
  },
  "nbformat": 4,
  "nbformat_minor": 0
}